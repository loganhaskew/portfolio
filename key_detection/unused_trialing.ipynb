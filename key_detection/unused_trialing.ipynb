{
 "cells": [
  {
   "cell_type": "markdown",
   "id": "5bac128b-c461-4da5-89b3-ffc67cd04707",
   "metadata": {},
   "source": [
    "### Key Dectection Trial Code"
   ]
  },
  {
   "cell_type": "markdown",
   "id": "c4ff7aa5-de23-4f63-af3d-a80839107fba",
   "metadata": {},
   "source": [
    "The code below will not be annotated. It involes some exploration in data synthesis in order to bolster an insufficient dataset. This code will be referenced, but not included in the main project notebook."
   ]
  },
  {
   "cell_type": "markdown",
   "id": "94e117ab-8b8d-45ba-b246-73c579bb62a7",
   "metadata": {},
   "source": [
    "---"
   ]
  },
  {
   "cell_type": "code",
   "execution_count": 1,
   "id": "33b9887b-0c5d-49fe-ad2b-b7c526537463",
   "metadata": {},
   "outputs": [],
   "source": [
    "import librosa as lb\n",
    "import librosa.display\n",
    "import numpy as np\n",
    "import pandas as pd\n",
    "import matplotlib.pyplot as plt\n",
    "import soundfile as sf\n",
    "import IPython.display as ipd\n",
    "import xgboost as xgb\n",
    "from sklearn.utils import shuffle\n",
    "from sklearn.model_selection import train_test_split, cross_val_score, KFold, LeaveOneOut\n",
    "from sklearn.svm import SVC\n",
    "from sklearn.naive_bayes import GaussianNB\n",
    "from sklearn.metrics import plot_confusion_matrix, f1_score\n",
    "from sklearn.ensemble import RandomForestClassifier as RFC\n",
    "from sklearn.preprocessing import PowerTransformer\n",
    "\n",
    "%matplotlib inline\n",
    "import warnings\n",
    "warnings.filterwarnings('ignore')"
   ]
  },
  {
   "cell_type": "code",
   "execution_count": 2,
   "id": "1dab4135-c5c2-4ae5-be57-c363e1386049",
   "metadata": {},
   "outputs": [
    {
     "data": {
      "text/html": [
       "<div>\n",
       "<style scoped>\n",
       "    .dataframe tbody tr th:only-of-type {\n",
       "        vertical-align: middle;\n",
       "    }\n",
       "\n",
       "    .dataframe tbody tr th {\n",
       "        vertical-align: top;\n",
       "    }\n",
       "\n",
       "    .dataframe thead th {\n",
       "        text-align: right;\n",
       "    }\n",
       "</style>\n",
       "<table border=\"1\" class=\"dataframe\">\n",
       "  <thead>\n",
       "    <tr style=\"text-align: right;\">\n",
       "      <th></th>\n",
       "      <th>C</th>\n",
       "      <th>C#</th>\n",
       "      <th>D</th>\n",
       "      <th>Eb</th>\n",
       "      <th>E</th>\n",
       "      <th>F</th>\n",
       "      <th>F#</th>\n",
       "      <th>G</th>\n",
       "      <th>G#</th>\n",
       "      <th>A</th>\n",
       "      <th>Bb</th>\n",
       "      <th>B</th>\n",
       "      <th>key</th>\n",
       "      <th>file_name</th>\n",
       "    </tr>\n",
       "  </thead>\n",
       "  <tbody>\n",
       "    <tr>\n",
       "      <th>599</th>\n",
       "      <td>444.679318</td>\n",
       "      <td>1992.525567</td>\n",
       "      <td>881.530065</td>\n",
       "      <td>29352.763156</td>\n",
       "      <td>9418.584581</td>\n",
       "      <td>15539.874667</td>\n",
       "      <td>1628.458134</td>\n",
       "      <td>920.985402</td>\n",
       "      <td>374.658092</td>\n",
       "      <td>161.838549</td>\n",
       "      <td>418.136025</td>\n",
       "      <td>1029.672037</td>\n",
       "      <td>E minor</td>\n",
       "      <td>1949099.LOFI.mp3</td>\n",
       "    </tr>\n",
       "    <tr>\n",
       "      <th>600</th>\n",
       "      <td>1911.868097</td>\n",
       "      <td>3234.755145</td>\n",
       "      <td>331.638425</td>\n",
       "      <td>4626.063993</td>\n",
       "      <td>517.644691</td>\n",
       "      <td>1587.764537</td>\n",
       "      <td>5230.362085</td>\n",
       "      <td>2116.399489</td>\n",
       "      <td>3354.809556</td>\n",
       "      <td>231.714128</td>\n",
       "      <td>4071.239069</td>\n",
       "      <td>59.723742</td>\n",
       "      <td>Eb minor</td>\n",
       "      <td>3372108.LOFI.mp3</td>\n",
       "    </tr>\n",
       "    <tr>\n",
       "      <th>601</th>\n",
       "      <td>1898.384718</td>\n",
       "      <td>1570.736300</td>\n",
       "      <td>1367.747783</td>\n",
       "      <td>1722.823444</td>\n",
       "      <td>3911.420452</td>\n",
       "      <td>9024.409445</td>\n",
       "      <td>5528.623968</td>\n",
       "      <td>3033.380395</td>\n",
       "      <td>3400.976997</td>\n",
       "      <td>2437.430222</td>\n",
       "      <td>1899.910791</td>\n",
       "      <td>1801.813055</td>\n",
       "      <td>F minor</td>\n",
       "      <td>4928111.LOFI.mp3</td>\n",
       "    </tr>\n",
       "    <tr>\n",
       "      <th>602</th>\n",
       "      <td>1576.440993</td>\n",
       "      <td>8050.270935</td>\n",
       "      <td>538.722500</td>\n",
       "      <td>1351.704226</td>\n",
       "      <td>2415.039681</td>\n",
       "      <td>161.361424</td>\n",
       "      <td>792.974874</td>\n",
       "      <td>1927.834072</td>\n",
       "      <td>10424.336922</td>\n",
       "      <td>8631.877463</td>\n",
       "      <td>2587.752843</td>\n",
       "      <td>9578.205826</td>\n",
       "      <td>Db minor</td>\n",
       "      <td>5308082.LOFI.mp3</td>\n",
       "    </tr>\n",
       "    <tr>\n",
       "      <th>603</th>\n",
       "      <td>1895.641807</td>\n",
       "      <td>1019.851448</td>\n",
       "      <td>589.889393</td>\n",
       "      <td>461.978466</td>\n",
       "      <td>116.642039</td>\n",
       "      <td>1085.809364</td>\n",
       "      <td>314.119005</td>\n",
       "      <td>1213.787700</td>\n",
       "      <td>680.040845</td>\n",
       "      <td>1280.994173</td>\n",
       "      <td>1214.870462</td>\n",
       "      <td>1499.104816</td>\n",
       "      <td>C major</td>\n",
       "      <td>997308.LOFI.mp3</td>\n",
       "    </tr>\n",
       "  </tbody>\n",
       "</table>\n",
       "</div>"
      ],
      "text/plain": [
       "               C           C#            D            Eb            E  \\\n",
       "599   444.679318  1992.525567   881.530065  29352.763156  9418.584581   \n",
       "600  1911.868097  3234.755145   331.638425   4626.063993   517.644691   \n",
       "601  1898.384718  1570.736300  1367.747783   1722.823444  3911.420452   \n",
       "602  1576.440993  8050.270935   538.722500   1351.704226  2415.039681   \n",
       "603  1895.641807  1019.851448   589.889393    461.978466   116.642039   \n",
       "\n",
       "                F           F#            G            G#            A  \\\n",
       "599  15539.874667  1628.458134   920.985402    374.658092   161.838549   \n",
       "600   1587.764537  5230.362085  2116.399489   3354.809556   231.714128   \n",
       "601   9024.409445  5528.623968  3033.380395   3400.976997  2437.430222   \n",
       "602    161.361424   792.974874  1927.834072  10424.336922  8631.877463   \n",
       "603   1085.809364   314.119005  1213.787700    680.040845  1280.994173   \n",
       "\n",
       "              Bb            B       key         file_name  \n",
       "599   418.136025  1029.672037   E minor  1949099.LOFI.mp3  \n",
       "600  4071.239069    59.723742  Eb minor  3372108.LOFI.mp3  \n",
       "601  1899.910791  1801.813055   F minor  4928111.LOFI.mp3  \n",
       "602  2587.752843  9578.205826  Db minor  5308082.LOFI.mp3  \n",
       "603  1214.870462  1499.104816   C major   997308.LOFI.mp3  "
      ]
     },
     "execution_count": 2,
     "metadata": {},
     "output_type": "execute_result"
    }
   ],
   "source": [
    "df = pd.read_csv('PSD_data.csv')\n",
    "df.tail()"
   ]
  },
  {
   "cell_type": "code",
   "execution_count": 3,
   "id": "cf1c3d92-21d8-4b99-8e56-c2d8c7c7b298",
   "metadata": {},
   "outputs": [
    {
     "data": {
      "text/plain": [
       "C            float64\n",
       "C#           float64\n",
       "D            float64\n",
       "Eb           float64\n",
       "E            float64\n",
       "F            float64\n",
       "F#           float64\n",
       "G            float64\n",
       "G#           float64\n",
       "A            float64\n",
       "Bb           float64\n",
       "B            float64\n",
       "key           object\n",
       "file_name     object\n",
       "dtype: object"
      ]
     },
     "execution_count": 3,
     "metadata": {},
     "output_type": "execute_result"
    }
   ],
   "source": [
    "df.dtypes"
   ]
  },
  {
   "cell_type": "markdown",
   "id": "3be9b374-626d-428d-b064-0af20f2b6bb5",
   "metadata": {},
   "source": [
    "Let's get rid of the file extensions and LOFI nonsense. We can then use these file names as the dataframe index."
   ]
  },
  {
   "cell_type": "code",
   "execution_count": 4,
   "id": "15a1ab27-193f-41f1-968a-b38141056cda",
   "metadata": {},
   "outputs": [
    {
     "data": {
      "text/html": [
       "<div>\n",
       "<style scoped>\n",
       "    .dataframe tbody tr th:only-of-type {\n",
       "        vertical-align: middle;\n",
       "    }\n",
       "\n",
       "    .dataframe tbody tr th {\n",
       "        vertical-align: top;\n",
       "    }\n",
       "\n",
       "    .dataframe thead th {\n",
       "        text-align: right;\n",
       "    }\n",
       "</style>\n",
       "<table border=\"1\" class=\"dataframe\">\n",
       "  <thead>\n",
       "    <tr style=\"text-align: right;\">\n",
       "      <th></th>\n",
       "      <th>C</th>\n",
       "      <th>C#</th>\n",
       "      <th>D</th>\n",
       "      <th>Eb</th>\n",
       "      <th>E</th>\n",
       "      <th>F</th>\n",
       "      <th>F#</th>\n",
       "      <th>G</th>\n",
       "      <th>G#</th>\n",
       "      <th>A</th>\n",
       "      <th>Bb</th>\n",
       "      <th>B</th>\n",
       "      <th>key</th>\n",
       "    </tr>\n",
       "    <tr>\n",
       "      <th>file_name</th>\n",
       "      <th></th>\n",
       "      <th></th>\n",
       "      <th></th>\n",
       "      <th></th>\n",
       "      <th></th>\n",
       "      <th></th>\n",
       "      <th></th>\n",
       "      <th></th>\n",
       "      <th></th>\n",
       "      <th></th>\n",
       "      <th></th>\n",
       "      <th></th>\n",
       "      <th></th>\n",
       "    </tr>\n",
       "  </thead>\n",
       "  <tbody>\n",
       "    <tr>\n",
       "      <th>3424038</th>\n",
       "      <td>750.308707</td>\n",
       "      <td>4691.414029</td>\n",
       "      <td>1612.918772</td>\n",
       "      <td>319.253306</td>\n",
       "      <td>2335.771952</td>\n",
       "      <td>875.178168</td>\n",
       "      <td>484.621728</td>\n",
       "      <td>425.606940</td>\n",
       "      <td>9693.569146</td>\n",
       "      <td>7651.337192</td>\n",
       "      <td>1195.471723</td>\n",
       "      <td>444.589791</td>\n",
       "      <td>Db minor</td>\n",
       "    </tr>\n",
       "    <tr>\n",
       "      <th>1164898</th>\n",
       "      <td>4531.097606</td>\n",
       "      <td>887.006296</td>\n",
       "      <td>514.470259</td>\n",
       "      <td>568.688686</td>\n",
       "      <td>1220.777055</td>\n",
       "      <td>1578.884060</td>\n",
       "      <td>960.696350</td>\n",
       "      <td>2447.356108</td>\n",
       "      <td>633.341837</td>\n",
       "      <td>1187.834155</td>\n",
       "      <td>1299.876750</td>\n",
       "      <td>2360.462509</td>\n",
       "      <td>C major</td>\n",
       "    </tr>\n",
       "    <tr>\n",
       "      <th>1105632</th>\n",
       "      <td>34503.311286</td>\n",
       "      <td>8137.526044</td>\n",
       "      <td>25858.143295</td>\n",
       "      <td>2084.856302</td>\n",
       "      <td>154.049128</td>\n",
       "      <td>208.675112</td>\n",
       "      <td>135.055361</td>\n",
       "      <td>645.079718</td>\n",
       "      <td>238.924311</td>\n",
       "      <td>433.882390</td>\n",
       "      <td>1189.280108</td>\n",
       "      <td>5773.303616</td>\n",
       "      <td>C minor</td>\n",
       "    </tr>\n",
       "    <tr>\n",
       "      <th>3313070</th>\n",
       "      <td>582.980910</td>\n",
       "      <td>314.385464</td>\n",
       "      <td>1535.620626</td>\n",
       "      <td>245.699869</td>\n",
       "      <td>1372.465021</td>\n",
       "      <td>731.753825</td>\n",
       "      <td>897.287874</td>\n",
       "      <td>5411.305329</td>\n",
       "      <td>1914.269964</td>\n",
       "      <td>3970.659863</td>\n",
       "      <td>1204.547106</td>\n",
       "      <td>4388.782289</td>\n",
       "      <td>B minor</td>\n",
       "    </tr>\n",
       "    <tr>\n",
       "      <th>3228297</th>\n",
       "      <td>415.673224</td>\n",
       "      <td>900.211661</td>\n",
       "      <td>1329.573290</td>\n",
       "      <td>56.167929</td>\n",
       "      <td>176.089533</td>\n",
       "      <td>109.277736</td>\n",
       "      <td>1505.355256</td>\n",
       "      <td>757.495392</td>\n",
       "      <td>2101.972227</td>\n",
       "      <td>4032.907101</td>\n",
       "      <td>1464.530047</td>\n",
       "      <td>2344.920782</td>\n",
       "      <td>B minor</td>\n",
       "    </tr>\n",
       "  </tbody>\n",
       "</table>\n",
       "</div>"
      ],
      "text/plain": [
       "                      C           C#             D           Eb            E  \\\n",
       "file_name                                                                      \n",
       "3424038      750.308707  4691.414029   1612.918772   319.253306  2335.771952   \n",
       "1164898     4531.097606   887.006296    514.470259   568.688686  1220.777055   \n",
       "1105632    34503.311286  8137.526044  25858.143295  2084.856302   154.049128   \n",
       "3313070      582.980910   314.385464   1535.620626   245.699869  1372.465021   \n",
       "3228297      415.673224   900.211661   1329.573290    56.167929   176.089533   \n",
       "\n",
       "                     F           F#            G           G#            A  \\\n",
       "file_name                                                                    \n",
       "3424038     875.178168   484.621728   425.606940  9693.569146  7651.337192   \n",
       "1164898    1578.884060   960.696350  2447.356108   633.341837  1187.834155   \n",
       "1105632     208.675112   135.055361   645.079718   238.924311   433.882390   \n",
       "3313070     731.753825   897.287874  5411.305329  1914.269964  3970.659863   \n",
       "3228297     109.277736  1505.355256   757.495392  2101.972227  4032.907101   \n",
       "\n",
       "                    Bb            B       key  \n",
       "file_name                                      \n",
       "3424038    1195.471723   444.589791  Db minor  \n",
       "1164898    1299.876750  2360.462509   C major  \n",
       "1105632    1189.280108  5773.303616   C minor  \n",
       "3313070    1204.547106  4388.782289   B minor  \n",
       "3228297    1464.530047  2344.920782   B minor  "
      ]
     },
     "execution_count": 4,
     "metadata": {},
     "output_type": "execute_result"
    }
   ],
   "source": [
    "df['file_name'] = df['file_name'].str[:-9]\n",
    "df.set_index('file_name', inplace=True)\n",
    "df.head()"
   ]
  },
  {
   "cell_type": "markdown",
   "id": "e3ffdc57-b157-4d08-88c1-3c2bd01cc7f2",
   "metadata": {},
   "source": [
    "We will need to doctor some of the data. I see the need to normalize each pitch as a fraction of the 'total PSD' and clean up some sharp and flat notation to be consistent with the pitch bins we plan on using (e.g. Db should be labeled as C#). You'll see below that there are only 24 unique keys, which is what we want, but the notation just bothers me. So let's make it right."
   ]
  },
  {
   "cell_type": "code",
   "execution_count": 5,
   "id": "4289caca-e09f-41c0-be72-0766a5708f24",
   "metadata": {},
   "outputs": [
    {
     "data": {
      "text/plain": [
       "24"
      ]
     },
     "execution_count": 5,
     "metadata": {},
     "output_type": "execute_result"
    }
   ],
   "source": [
    "len(df['key'].unique())"
   ]
  },
  {
   "cell_type": "code",
   "execution_count": 6,
   "id": "0955e49f-2167-47ef-bd7f-bc38695dc7bc",
   "metadata": {},
   "outputs": [
    {
     "data": {
      "text/plain": [
       "24"
      ]
     },
     "execution_count": 6,
     "metadata": {},
     "output_type": "execute_result"
    }
   ],
   "source": [
    "df.loc[df['key'] == 'Db minor', 'key'] = 'C# minor'\n",
    "df.loc[df['key'] == 'Db major', 'key'] = 'C# major'\n",
    "df.loc[df['key'] == 'D# minor', 'key'] = 'Eb minor'\n",
    "df.loc[df['key'] == 'D# major', 'key'] = 'Eb major'\n",
    "df.loc[df['key'] == 'Gb minor', 'key'] = 'F# minor'\n",
    "df.loc[df['key'] == 'Gb major', 'key'] = 'F# major'\n",
    "df.loc[df['key'] == 'Ab minor', 'key'] = 'G# minor'\n",
    "df.loc[df['key'] == 'Ab major', 'key'] = 'G# major'\n",
    "df.loc[df['key'] == 'A# minor', 'key'] = 'Bb minor'\n",
    "df.loc[df['key'] == 'A# minor', 'key'] = 'Bb minor'\n",
    "\n",
    "len(df['key'].unique())"
   ]
  },
  {
   "cell_type": "markdown",
   "id": "4593c8d1-1c23-4fbc-9138-13a550f202f2",
   "metadata": {},
   "source": [
    "With that squared away, let's take a look at how much representation of each possible key we have in our dataset. You'll note some obvious imbalance. We may need to account for this later in our training and cross-validation."
   ]
  },
  {
   "cell_type": "code",
   "execution_count": 7,
   "id": "e54a2762-4b6b-49eb-878a-1bdf65b9a7c9",
   "metadata": {},
   "outputs": [
    {
     "data": {
      "text/plain": [
       "key\n",
       "A major     11\n",
       "A minor     54\n",
       "B major      5\n",
       "B minor     32\n",
       "Bb major     5\n",
       "Bb minor    28\n",
       "C major     15\n",
       "C minor     53\n",
       "C# major     1\n",
       "C# minor    25\n",
       "D major     10\n",
       "D minor     40\n",
       "E major     10\n",
       "E minor     48\n",
       "Eb major     9\n",
       "Eb minor    36\n",
       "F major      9\n",
       "F minor     73\n",
       "F# major     5\n",
       "F# minor    31\n",
       "G major      8\n",
       "G minor     62\n",
       "G# major     5\n",
       "G# minor    29\n",
       "dtype: int64"
      ]
     },
     "execution_count": 7,
     "metadata": {},
     "output_type": "execute_result"
    }
   ],
   "source": [
    "df.groupby(['key']).size()"
   ]
  },
  {
   "cell_type": "markdown",
   "id": "f0ea0452-c0a7-469d-8f1a-7c7feafea99e",
   "metadata": {
    "tags": []
   },
   "source": [
    "Now we can normalize the power values for each pitch."
   ]
  },
  {
   "cell_type": "code",
   "execution_count": 8,
   "id": "fef6a8bc-b7e2-4917-81e7-4473949bf501",
   "metadata": {
    "tags": []
   },
   "outputs": [
    {
     "data": {
      "text/html": [
       "<div>\n",
       "<style scoped>\n",
       "    .dataframe tbody tr th:only-of-type {\n",
       "        vertical-align: middle;\n",
       "    }\n",
       "\n",
       "    .dataframe tbody tr th {\n",
       "        vertical-align: top;\n",
       "    }\n",
       "\n",
       "    .dataframe thead th {\n",
       "        text-align: right;\n",
       "    }\n",
       "</style>\n",
       "<table border=\"1\" class=\"dataframe\">\n",
       "  <thead>\n",
       "    <tr style=\"text-align: right;\">\n",
       "      <th></th>\n",
       "      <th>C</th>\n",
       "      <th>C#</th>\n",
       "      <th>D</th>\n",
       "      <th>Eb</th>\n",
       "      <th>E</th>\n",
       "      <th>F</th>\n",
       "      <th>F#</th>\n",
       "      <th>G</th>\n",
       "      <th>G#</th>\n",
       "      <th>A</th>\n",
       "      <th>Bb</th>\n",
       "      <th>B</th>\n",
       "      <th>key</th>\n",
       "      <th>power_sum</th>\n",
       "    </tr>\n",
       "    <tr>\n",
       "      <th>file_name</th>\n",
       "      <th></th>\n",
       "      <th></th>\n",
       "      <th></th>\n",
       "      <th></th>\n",
       "      <th></th>\n",
       "      <th></th>\n",
       "      <th></th>\n",
       "      <th></th>\n",
       "      <th></th>\n",
       "      <th></th>\n",
       "      <th></th>\n",
       "      <th></th>\n",
       "      <th></th>\n",
       "      <th></th>\n",
       "    </tr>\n",
       "  </thead>\n",
       "  <tbody>\n",
       "    <tr>\n",
       "      <th>3424038</th>\n",
       "      <td>0.024616</td>\n",
       "      <td>0.153918</td>\n",
       "      <td>0.052917</td>\n",
       "      <td>0.010474</td>\n",
       "      <td>0.076633</td>\n",
       "      <td>0.028713</td>\n",
       "      <td>0.015900</td>\n",
       "      <td>0.013963</td>\n",
       "      <td>0.318030</td>\n",
       "      <td>0.251028</td>\n",
       "      <td>0.039221</td>\n",
       "      <td>0.014586</td>\n",
       "      <td>C# minor</td>\n",
       "      <td>30480.041453</td>\n",
       "    </tr>\n",
       "    <tr>\n",
       "      <th>1164898</th>\n",
       "      <td>0.249092</td>\n",
       "      <td>0.048762</td>\n",
       "      <td>0.028282</td>\n",
       "      <td>0.031263</td>\n",
       "      <td>0.067111</td>\n",
       "      <td>0.086797</td>\n",
       "      <td>0.052813</td>\n",
       "      <td>0.134540</td>\n",
       "      <td>0.034817</td>\n",
       "      <td>0.065300</td>\n",
       "      <td>0.071459</td>\n",
       "      <td>0.129764</td>\n",
       "      <td>C major</td>\n",
       "      <td>18190.491671</td>\n",
       "    </tr>\n",
       "    <tr>\n",
       "      <th>1105632</th>\n",
       "      <td>0.434758</td>\n",
       "      <td>0.102537</td>\n",
       "      <td>0.325825</td>\n",
       "      <td>0.026270</td>\n",
       "      <td>0.001941</td>\n",
       "      <td>0.002629</td>\n",
       "      <td>0.001702</td>\n",
       "      <td>0.008128</td>\n",
       "      <td>0.003011</td>\n",
       "      <td>0.005467</td>\n",
       "      <td>0.014985</td>\n",
       "      <td>0.072746</td>\n",
       "      <td>C minor</td>\n",
       "      <td>79362.086670</td>\n",
       "    </tr>\n",
       "    <tr>\n",
       "      <th>3313070</th>\n",
       "      <td>0.025830</td>\n",
       "      <td>0.013930</td>\n",
       "      <td>0.068039</td>\n",
       "      <td>0.010886</td>\n",
       "      <td>0.060810</td>\n",
       "      <td>0.032422</td>\n",
       "      <td>0.039756</td>\n",
       "      <td>0.239759</td>\n",
       "      <td>0.084816</td>\n",
       "      <td>0.175928</td>\n",
       "      <td>0.053370</td>\n",
       "      <td>0.194454</td>\n",
       "      <td>B minor</td>\n",
       "      <td>22569.758141</td>\n",
       "    </tr>\n",
       "    <tr>\n",
       "      <th>3228297</th>\n",
       "      <td>0.027357</td>\n",
       "      <td>0.059247</td>\n",
       "      <td>0.087505</td>\n",
       "      <td>0.003697</td>\n",
       "      <td>0.011589</td>\n",
       "      <td>0.007192</td>\n",
       "      <td>0.099075</td>\n",
       "      <td>0.049854</td>\n",
       "      <td>0.138341</td>\n",
       "      <td>0.265425</td>\n",
       "      <td>0.096388</td>\n",
       "      <td>0.154330</td>\n",
       "      <td>B minor</td>\n",
       "      <td>15194.174179</td>\n",
       "    </tr>\n",
       "  </tbody>\n",
       "</table>\n",
       "</div>"
      ],
      "text/plain": [
       "                  C        C#         D        Eb         E         F  \\\n",
       "file_name                                                               \n",
       "3424038    0.024616  0.153918  0.052917  0.010474  0.076633  0.028713   \n",
       "1164898    0.249092  0.048762  0.028282  0.031263  0.067111  0.086797   \n",
       "1105632    0.434758  0.102537  0.325825  0.026270  0.001941  0.002629   \n",
       "3313070    0.025830  0.013930  0.068039  0.010886  0.060810  0.032422   \n",
       "3228297    0.027357  0.059247  0.087505  0.003697  0.011589  0.007192   \n",
       "\n",
       "                 F#         G        G#         A        Bb         B  \\\n",
       "file_name                                                               \n",
       "3424038    0.015900  0.013963  0.318030  0.251028  0.039221  0.014586   \n",
       "1164898    0.052813  0.134540  0.034817  0.065300  0.071459  0.129764   \n",
       "1105632    0.001702  0.008128  0.003011  0.005467  0.014985  0.072746   \n",
       "3313070    0.039756  0.239759  0.084816  0.175928  0.053370  0.194454   \n",
       "3228297    0.099075  0.049854  0.138341  0.265425  0.096388  0.154330   \n",
       "\n",
       "                key     power_sum  \n",
       "file_name                          \n",
       "3424038    C# minor  30480.041453  \n",
       "1164898     C major  18190.491671  \n",
       "1105632     C minor  79362.086670  \n",
       "3313070     B minor  22569.758141  \n",
       "3228297     B minor  15194.174179  "
      ]
     },
     "execution_count": 8,
     "metadata": {},
     "output_type": "execute_result"
    }
   ],
   "source": [
    "pitch_labels = ['C', 'C#', 'D', 'Eb', 'E', 'F', 'F#', 'G', 'G#', 'A', 'Bb', 'B']\n",
    "df['power_sum'] = df[pitch_labels].sum(axis=1)\n",
    "for label in pitch_labels:\n",
    "    df[label] = df[label] / df['power_sum']\n",
    "df.head()"
   ]
  },
  {
   "cell_type": "markdown",
   "id": "568dcca2-9f27-4cce-bb58-db93fb979a1e",
   "metadata": {},
   "source": [
    "Now we need to code our ouput in a way that we can work with. The key makes sense to us, but we ought to encode this using numbers 0-23. We can convert this back to the key each integer corresponds to when necessary.\n",
    "\n",
    "Just like getting our flats and sharps in a harmonious alignment, we will have to take a bit of a brute force approach to this."
   ]
  },
  {
   "cell_type": "code",
   "execution_count": 9,
   "id": "642b7e60-3e1c-44c3-8c57-646de8dffe6e",
   "metadata": {},
   "outputs": [
    {
     "data": {
      "text/html": [
       "<div>\n",
       "<style scoped>\n",
       "    .dataframe tbody tr th:only-of-type {\n",
       "        vertical-align: middle;\n",
       "    }\n",
       "\n",
       "    .dataframe tbody tr th {\n",
       "        vertical-align: top;\n",
       "    }\n",
       "\n",
       "    .dataframe thead th {\n",
       "        text-align: right;\n",
       "    }\n",
       "</style>\n",
       "<table border=\"1\" class=\"dataframe\">\n",
       "  <thead>\n",
       "    <tr style=\"text-align: right;\">\n",
       "      <th></th>\n",
       "      <th>C</th>\n",
       "      <th>C#</th>\n",
       "      <th>D</th>\n",
       "      <th>Eb</th>\n",
       "      <th>E</th>\n",
       "      <th>F</th>\n",
       "      <th>F#</th>\n",
       "      <th>G</th>\n",
       "      <th>G#</th>\n",
       "      <th>A</th>\n",
       "      <th>Bb</th>\n",
       "      <th>B</th>\n",
       "      <th>key</th>\n",
       "      <th>power_sum</th>\n",
       "    </tr>\n",
       "    <tr>\n",
       "      <th>file_name</th>\n",
       "      <th></th>\n",
       "      <th></th>\n",
       "      <th></th>\n",
       "      <th></th>\n",
       "      <th></th>\n",
       "      <th></th>\n",
       "      <th></th>\n",
       "      <th></th>\n",
       "      <th></th>\n",
       "      <th></th>\n",
       "      <th></th>\n",
       "      <th></th>\n",
       "      <th></th>\n",
       "      <th></th>\n",
       "    </tr>\n",
       "  </thead>\n",
       "  <tbody>\n",
       "    <tr>\n",
       "      <th>3424038</th>\n",
       "      <td>0.024616</td>\n",
       "      <td>0.153918</td>\n",
       "      <td>0.052917</td>\n",
       "      <td>0.010474</td>\n",
       "      <td>0.076633</td>\n",
       "      <td>0.028713</td>\n",
       "      <td>0.015900</td>\n",
       "      <td>0.013963</td>\n",
       "      <td>0.318030</td>\n",
       "      <td>0.251028</td>\n",
       "      <td>0.039221</td>\n",
       "      <td>0.014586</td>\n",
       "      <td>3</td>\n",
       "      <td>30480.041453</td>\n",
       "    </tr>\n",
       "    <tr>\n",
       "      <th>1164898</th>\n",
       "      <td>0.249092</td>\n",
       "      <td>0.048762</td>\n",
       "      <td>0.028282</td>\n",
       "      <td>0.031263</td>\n",
       "      <td>0.067111</td>\n",
       "      <td>0.086797</td>\n",
       "      <td>0.052813</td>\n",
       "      <td>0.134540</td>\n",
       "      <td>0.034817</td>\n",
       "      <td>0.065300</td>\n",
       "      <td>0.071459</td>\n",
       "      <td>0.129764</td>\n",
       "      <td>0</td>\n",
       "      <td>18190.491671</td>\n",
       "    </tr>\n",
       "    <tr>\n",
       "      <th>1105632</th>\n",
       "      <td>0.434758</td>\n",
       "      <td>0.102537</td>\n",
       "      <td>0.325825</td>\n",
       "      <td>0.026270</td>\n",
       "      <td>0.001941</td>\n",
       "      <td>0.002629</td>\n",
       "      <td>0.001702</td>\n",
       "      <td>0.008128</td>\n",
       "      <td>0.003011</td>\n",
       "      <td>0.005467</td>\n",
       "      <td>0.014985</td>\n",
       "      <td>0.072746</td>\n",
       "      <td>1</td>\n",
       "      <td>79362.086670</td>\n",
       "    </tr>\n",
       "    <tr>\n",
       "      <th>3313070</th>\n",
       "      <td>0.025830</td>\n",
       "      <td>0.013930</td>\n",
       "      <td>0.068039</td>\n",
       "      <td>0.010886</td>\n",
       "      <td>0.060810</td>\n",
       "      <td>0.032422</td>\n",
       "      <td>0.039756</td>\n",
       "      <td>0.239759</td>\n",
       "      <td>0.084816</td>\n",
       "      <td>0.175928</td>\n",
       "      <td>0.053370</td>\n",
       "      <td>0.194454</td>\n",
       "      <td>23</td>\n",
       "      <td>22569.758141</td>\n",
       "    </tr>\n",
       "    <tr>\n",
       "      <th>3228297</th>\n",
       "      <td>0.027357</td>\n",
       "      <td>0.059247</td>\n",
       "      <td>0.087505</td>\n",
       "      <td>0.003697</td>\n",
       "      <td>0.011589</td>\n",
       "      <td>0.007192</td>\n",
       "      <td>0.099075</td>\n",
       "      <td>0.049854</td>\n",
       "      <td>0.138341</td>\n",
       "      <td>0.265425</td>\n",
       "      <td>0.096388</td>\n",
       "      <td>0.154330</td>\n",
       "      <td>23</td>\n",
       "      <td>15194.174179</td>\n",
       "    </tr>\n",
       "  </tbody>\n",
       "</table>\n",
       "</div>"
      ],
      "text/plain": [
       "                  C        C#         D        Eb         E         F  \\\n",
       "file_name                                                               \n",
       "3424038    0.024616  0.153918  0.052917  0.010474  0.076633  0.028713   \n",
       "1164898    0.249092  0.048762  0.028282  0.031263  0.067111  0.086797   \n",
       "1105632    0.434758  0.102537  0.325825  0.026270  0.001941  0.002629   \n",
       "3313070    0.025830  0.013930  0.068039  0.010886  0.060810  0.032422   \n",
       "3228297    0.027357  0.059247  0.087505  0.003697  0.011589  0.007192   \n",
       "\n",
       "                 F#         G        G#         A        Bb         B  key  \\\n",
       "file_name                                                                    \n",
       "3424038    0.015900  0.013963  0.318030  0.251028  0.039221  0.014586    3   \n",
       "1164898    0.052813  0.134540  0.034817  0.065300  0.071459  0.129764    0   \n",
       "1105632    0.001702  0.008128  0.003011  0.005467  0.014985  0.072746    1   \n",
       "3313070    0.039756  0.239759  0.084816  0.175928  0.053370  0.194454   23   \n",
       "3228297    0.099075  0.049854  0.138341  0.265425  0.096388  0.154330   23   \n",
       "\n",
       "              power_sum  \n",
       "file_name                \n",
       "3424038    30480.041453  \n",
       "1164898    18190.491671  \n",
       "1105632    79362.086670  \n",
       "3313070    22569.758141  \n",
       "3228297    15194.174179  "
      ]
     },
     "execution_count": 9,
     "metadata": {},
     "output_type": "execute_result"
    }
   ],
   "source": [
    "key_labels = ['C major', 'C minor', 'C# major', 'C# minor', 'D major', 'D minor', \n",
    "              'Eb major', 'Eb minor', 'E major', 'E minor', 'F major', 'F minor', \n",
    "              'F# major', 'F# minor', 'G major', 'G minor', 'G# major', 'G# minor',\n",
    "              'A major', 'A minor', 'Bb major', 'Bb minor', 'B major', 'B minor']\n",
    "df['key'].replace(key_labels, list(range(24)), inplace=True)\n",
    "df.head()"
   ]
  },
  {
   "cell_type": "markdown",
   "id": "befee57d-7181-4a08-b6f2-0acd43d42350",
   "metadata": {},
   "source": [
    "Okay, we are in a pretty good place with our data now. Let's do our final prep and train a few initial models.\n",
    "\n",
    "First, split our data into train and test sets."
   ]
  },
  {
   "cell_type": "code",
   "execution_count": 10,
   "id": "671eac72-2622-4946-b766-9a4d6c5c6987",
   "metadata": {},
   "outputs": [
    {
     "data": {
      "text/plain": [
       "((483, 12), (121, 12))"
      ]
     },
     "execution_count": 10,
     "metadata": {},
     "output_type": "execute_result"
    }
   ],
   "source": [
    "X = df.drop(['key', 'power_sum'], axis=1)\n",
    "y = df['key']\n",
    "\n",
    "X_train, X_test, y_train, y_test = train_test_split(X, y, test_size=0.2, random_state=42)\n",
    "X_train.shape, X_test.shape"
   ]
  },
  {
   "cell_type": "markdown",
   "id": "2b1fa824-54d5-48b2-ba99-b4128b3dd7cd",
   "metadata": {},
   "source": [
    "I originally attempted adding noise to certain clips in the training dataset, but didn't wind up with anything very fruitful. After a few afternoons trying to make this work, I think my next attempt will be attempting to synthesize data by creating fake songs. Let's see what we can "
   ]
  },
  {
   "cell_type": "code",
   "execution_count": 11,
   "id": "69cd1b18-5a2a-4a95-8b71-6567fdee1a81",
   "metadata": {},
   "outputs": [
    {
     "data": {
      "text/plain": [
       "(key\n",
       " 0     12\n",
       " 1     37\n",
       " 2      1\n",
       " 3     19\n",
       " 4      8\n",
       " 5     31\n",
       " 6      6\n",
       " 7     28\n",
       " 8     10\n",
       " 9     36\n",
       " 10     8\n",
       " 11    56\n",
       " 12     4\n",
       " 13    28\n",
       " 14     6\n",
       " 15    51\n",
       " 16     4\n",
       " 17    25\n",
       " 18     7\n",
       " 19    46\n",
       " 20     4\n",
       " 21    24\n",
       " 22     3\n",
       " 23    29\n",
       " Name: key, dtype: int64,\n",
       " 24,\n",
       " 483)"
      ]
     },
     "execution_count": 11,
     "metadata": {},
     "output_type": "execute_result"
    }
   ],
   "source": [
    "y_train.groupby(y_train).size(), len(y_train.groupby(y_train).size()), sum(y_train.groupby(y_train).size())"
   ]
  },
  {
   "cell_type": "markdown",
   "id": "b75fae15-51fa-42b1-9192-72b5b2b2bbfd",
   "metadata": {},
   "source": [
    "Check out how we got lucky and the one C# major clip is in our training dataset. We can work with this. We will generate some slight amount of noise and add it to under-represented keys. This alleviates imbalance and increases the size of our dataset.\n",
    "\n",
    "We want our model to be able to handle a fair amount of noise. Let's try the following approach.\n",
    "\n",
    "1. Generate synthetic data for under-represented keys by using data in those keys and adding random noise up to 3%. \n",
    "\n",
    "2. Double our newly balanced dataset by adding noise up to 3% for each sample.\n",
    "\n",
    "NOTE: This will produce some samples that contain up to 6.09% noise as we stack noise onto our already synthetic data.\n",
    "\n",
    "I'm choosing to augment any key with less than 10 samples in the training data so we need to augment the following keys:\n",
    "\n",
    "- C# major\n",
    "- D major\n",
    "- Eb major\n",
    "- F major\n",
    "- F# major\n",
    "- G major\n",
    "- G# major\n",
    "- A major\n",
    "- Bb major\n",
    "- B major"
   ]
  },
  {
   "cell_type": "code",
   "execution_count": 12,
   "id": "2c80604c-a262-43c5-b671-2f7e11d785b1",
   "metadata": {},
   "outputs": [],
   "source": [
    "def noise_adder(clips: list, noise_pct: float) -> None:\n",
    "    '''add noise to clips in argument list of magnitude +/- noise_pct %.\n",
    "    X_train_aug dataframe contains appended data'''\n",
    "    for clip in clips:\n",
    "        if clip in X_train_aug.index:\n",
    "            # distribute noise in positive and negative directions\n",
    "            noise = (np.random.random(len(X_train.columns))-0.5) * (noise_pct*2) / 100\n",
    "            temp = X_train_aug.loc[clip, :'B'].copy()\n",
    "            temp += noise\n",
    "            temp = temp.tolist()\n",
    "            temp.append(X_train_aug.loc[clip, 'key'])\n",
    "            X_train_aug.loc[len(X_train_aug.index)] = temp\n",
    "    return"
   ]
  },
  {
   "cell_type": "code",
   "execution_count": 13,
   "id": "52cf6a60-64c7-41b5-8d9c-e6f954073544",
   "metadata": {
    "tags": []
   },
   "outputs": [],
   "source": [
    "# encoded keys to augment\n",
    "aug_keys = [2, 4, 6, 10, 12, 14, 16, 18, 20, 22]\n",
    "# list of clips \n",
    "aug_clips = list(df[df['key'].isin(aug_keys)].index)\n",
    "\n",
    "X_train_aug = X_train.copy()\n",
    "X_train_aug['key'] = y_train\n",
    "\n",
    "# add 15 data points to each key that needs help\n",
    "for i in range(30):\n",
    "    noise_adder(aug_clips, 2)"
   ]
  },
  {
   "cell_type": "code",
   "execution_count": 14,
   "id": "0d7b6a53-fdee-4b30-a4b8-02e4d252decb",
   "metadata": {},
   "outputs": [
    {
     "data": {
      "text/plain": [
       "(2013, 13)"
      ]
     },
     "execution_count": 14,
     "metadata": {},
     "output_type": "execute_result"
    }
   ],
   "source": [
    "X_train_aug.shape"
   ]
  },
  {
   "cell_type": "markdown",
   "id": "993786f2-1fcb-4b29-a470-9d281f2ce148",
   "metadata": {},
   "source": [
    "Now repeat with some noise to double our sample size."
   ]
  },
  {
   "cell_type": "code",
   "execution_count": 15,
   "id": "4578c772-479f-4804-accd-045c48869237",
   "metadata": {},
   "outputs": [
    {
     "data": {
      "text/plain": [
       "(4026, 13)"
      ]
     },
     "execution_count": 15,
     "metadata": {},
     "output_type": "execute_result"
    }
   ],
   "source": [
    "noise_adder(list(X_train_aug.index.values), 1)\n",
    "X_train_aug.shape"
   ]
  },
  {
   "cell_type": "markdown",
   "id": "8637a445-1ea8-42c4-bc4b-94e5f1ce505f",
   "metadata": {},
   "source": [
    "Check our imbalance. Still far from perfect, but better than it was."
   ]
  },
  {
   "cell_type": "code",
   "execution_count": 16,
   "id": "5a5a93e3-7ed7-469d-ba8a-0a3a092982d1",
   "metadata": {},
   "outputs": [],
   "source": [
    "X_train_aug.clip(lower=0, inplace=True)"
   ]
  },
  {
   "cell_type": "code",
   "execution_count": 17,
   "id": "b23f06be-779c-4c90-967b-0fca2a146a85",
   "metadata": {},
   "outputs": [
    {
     "data": {
      "text/plain": [
       "key\n",
       "0.0      24\n",
       "1.0      74\n",
       "2.0      62\n",
       "3.0      38\n",
       "4.0     496\n",
       "5.0      62\n",
       "6.0     372\n",
       "7.0      56\n",
       "8.0      20\n",
       "9.0      72\n",
       "10.0    496\n",
       "11.0    112\n",
       "12.0    248\n",
       "13.0     56\n",
       "14.0    372\n",
       "15.0    102\n",
       "16.0    248\n",
       "17.0     50\n",
       "18.0    434\n",
       "19.0     92\n",
       "20.0    248\n",
       "21.0     48\n",
       "22.0    186\n",
       "23.0     58\n",
       "dtype: int64"
      ]
     },
     "execution_count": 17,
     "metadata": {},
     "output_type": "execute_result"
    }
   ],
   "source": [
    "X_train_aug.groupby('key').size()"
   ]
  },
  {
   "cell_type": "markdown",
   "id": "26b39521-5f00-4fc3-945a-502e9b4d8612",
   "metadata": {},
   "source": [
    "Now, let's attempt to retrain our models and see where we land."
   ]
  },
  {
   "cell_type": "code",
   "execution_count": 18,
   "id": "2c0ff6d9-11f8-43c5-b44e-1fe0b7c69859",
   "metadata": {},
   "outputs": [
    {
     "data": {
      "text/plain": [
       "(                  C        C#         D        Eb         E         F  \\\n",
       " file_name                                                               \n",
       " 2725286    0.004530  0.002679  0.004777  0.001417  0.004275  0.023987   \n",
       " 4399289    0.089803  0.023898  0.153939  0.015780  0.152353  0.143661   \n",
       " 3178155    0.133513  0.047105  0.035356  0.093976  0.054022  0.166917   \n",
       " 4091478    0.007054  0.007349  0.005851  0.008703  0.036609  0.011413   \n",
       " 4206954    0.041473  0.009316  0.159931  0.007266  0.018892  0.180994   \n",
       " \n",
       "                  F#         G        G#         A        Bb         B  \n",
       " file_name                                                              \n",
       " 2725286    0.227415  0.376670  0.025433  0.023210  0.238266  0.067339  \n",
       " 4399289    0.010000  0.187798  0.041253  0.105647  0.049862  0.026006  \n",
       " 3178155    0.061164  0.080218  0.150605  0.091228  0.056649  0.029248  \n",
       " 4091478    0.010291  0.043103  0.171505  0.636572  0.032887  0.028662  \n",
       " 4206954    0.258097  0.095167  0.076114  0.079794  0.036807  0.036148  ,\n",
       " file_name\n",
       " 2725286    15.0\n",
       " 4399289     0.0\n",
       " 3178155    19.0\n",
       " 4091478    19.0\n",
       " 4206954     5.0\n",
       " Name: key, dtype: float64)"
      ]
     },
     "execution_count": 18,
     "metadata": {},
     "output_type": "execute_result"
    }
   ],
   "source": [
    "y_train_aug = X_train_aug['key']\n",
    "X_train_aug = X_train_aug.drop(['key'], axis=1)\n",
    "X_train_aug.head(), y_train_aug.head()"
   ]
  },
  {
   "cell_type": "code",
   "execution_count": 19,
   "id": "729cee8d-764d-49c5-ac4d-ca18454d1f50",
   "metadata": {},
   "outputs": [
    {
     "data": {
      "text/plain": [
       "SVC(degree=2, kernel='poly')"
      ]
     },
     "execution_count": 19,
     "metadata": {},
     "output_type": "execute_result"
    }
   ],
   "source": [
    "svm = SVC(kernel='poly', degree=2)\n",
    "svm.fit(X_train_aug, y_train_aug)"
   ]
  },
  {
   "cell_type": "code",
   "execution_count": 20,
   "id": "db258fc0-5192-4e29-889a-28d61dd70f15",
   "metadata": {},
   "outputs": [
    {
     "data": {
      "text/plain": [
       "0.39669421487603307"
      ]
     },
     "execution_count": 20,
     "metadata": {},
     "output_type": "execute_result"
    }
   ],
   "source": [
    "svm.score(X_test, y_test)"
   ]
  },
  {
   "cell_type": "code",
   "execution_count": 22,
   "id": "fd8f3aba-36f1-4d04-b59e-fd5f2ce906f2",
   "metadata": {},
   "outputs": [
    {
     "data": {
      "text/plain": [
       "GaussianNB()"
      ]
     },
     "execution_count": 22,
     "metadata": {},
     "output_type": "execute_result"
    }
   ],
   "source": [
    "gnb = GaussianNB()\n",
    "gnb.fit(X_train_aug, y_train_aug)"
   ]
  },
  {
   "cell_type": "code",
   "execution_count": 23,
   "id": "77aae783-0ffb-4f9c-bb0f-8998d007a4c0",
   "metadata": {},
   "outputs": [
    {
     "data": {
      "text/plain": [
       "0.2809917355371901"
      ]
     },
     "execution_count": 23,
     "metadata": {},
     "output_type": "execute_result"
    }
   ],
   "source": [
    "gnb.score(X_test, y_test)"
   ]
  },
  {
   "cell_type": "code",
   "execution_count": 24,
   "id": "40d1b62f-ef05-4140-bda2-2564523ee878",
   "metadata": {},
   "outputs": [
    {
     "data": {
      "text/plain": [
       "0.30578512396694213"
      ]
     },
     "execution_count": 24,
     "metadata": {},
     "output_type": "execute_result"
    }
   ],
   "source": [
    "rfc = RFC(max_depth=10, max_features=7)\n",
    "rfc.fit(X_train_aug, y_train_aug)\n",
    "\n",
    "rfc.score(X_test, y_test)"
   ]
  },
  {
   "cell_type": "code",
   "execution_count": 25,
   "id": "3b9ee2b7-b8a3-4330-b232-c0e8787e87f1",
   "metadata": {},
   "outputs": [
    {
     "data": {
      "text/plain": [
       "XGBClassifier(base_score=0.5, booster='gbtree', callbacks=None,\n",
       "              colsample_bylevel=1, colsample_bynode=1, colsample_bytree=1,\n",
       "              early_stopping_rounds=None, enable_categorical=False,\n",
       "              eval_metric=None, gamma=0, gpu_id=-1, grow_policy='depthwise',\n",
       "              importance_type=None, interaction_constraints='',\n",
       "              learning_rate=0.300000012, max_bin=256, max_cat_to_onehot=4,\n",
       "              max_delta_step=0, max_depth=6, max_leaves=0, min_child_weight=1,\n",
       "              missing=nan, monotone_constraints='()', n_estimators=100,\n",
       "              n_jobs=0, num_parallel_tree=1, objective='multi:softprob',\n",
       "              predictor='auto', random_state=0, reg_alpha=0, ...)"
      ]
     },
     "execution_count": 25,
     "metadata": {},
     "output_type": "execute_result"
    }
   ],
   "source": [
    "boost = xgb.XGBClassifier()\n",
    "boost.fit(X_train_aug, y_train_aug)"
   ]
  },
  {
   "cell_type": "code",
   "execution_count": 26,
   "id": "ead5cdea-a93c-41e3-8407-7ad3c3da79d2",
   "metadata": {
    "tags": []
   },
   "outputs": [
    {
     "data": {
      "text/plain": [
       "0.4380165289256198"
      ]
     },
     "execution_count": 26,
     "metadata": {},
     "output_type": "execute_result"
    }
   ],
   "source": [
    "pred = boost.predict(X_test)\n",
    "sum(pred == y_test.values)/len(pred)"
   ]
  },
  {
   "cell_type": "markdown",
   "id": "a8889561-55dc-4cfb-8371-9b22a5115b29",
   "metadata": {},
   "source": [
    "This doesn't provide enough value to implement. Let's try 'generating' songs. First, we build the index data of each scale."
   ]
  },
  {
   "cell_type": "code",
   "execution_count": 27,
   "id": "f3042215-61e2-4d0a-84c8-07cf6faf563f",
   "metadata": {},
   "outputs": [
    {
     "data": {
      "text/plain": [
       "[['C', 'D', 'E', 'F', 'G', 'A', 'B'],\n",
       " ['C', 'D', 'Eb', 'F', 'G', 'G#', 'Bb'],\n",
       " ['C#', 'Eb', 'F', 'F#', 'G#', 'Bb', 'C'],\n",
       " ['C#', 'Eb', 'E', 'F#', 'G#', 'A', 'B'],\n",
       " ['D', 'E', 'F#', 'G', 'A', 'B', 'C#'],\n",
       " ['D', 'E', 'F', 'G', 'A', 'Bb', 'C'],\n",
       " ['Eb', 'F', 'G', 'G#', 'Bb', 'C', 'D'],\n",
       " ['Eb', 'F', 'F#', 'G#', 'Bb', 'B', 'C#'],\n",
       " ['E', 'F#', 'G#', 'A', 'B', 'C#', 'Eb'],\n",
       " ['E', 'F#', 'G', 'A', 'B', 'C', 'D'],\n",
       " ['F', 'G', 'A', 'Bb', 'C', 'D', 'E'],\n",
       " ['F', 'G', 'G#', 'Bb', 'C', 'C#', 'Eb'],\n",
       " ['F#', 'G#', 'Bb', 'B', 'C#', 'Eb', 'F'],\n",
       " ['F#', 'G#', 'A', 'B', 'C#', 'D', 'E'],\n",
       " ['G', 'A', 'B', 'C', 'D', 'E', 'F#'],\n",
       " ['G', 'A', 'Bb', 'C', 'D', 'Eb', 'F'],\n",
       " ['G#', 'Bb', 'C', 'C#', 'Eb', 'F', 'G'],\n",
       " ['G#', 'Bb', 'B', 'C#', 'Eb', 'E', 'F#'],\n",
       " ['A', 'B', 'C#', 'D', 'E', 'F#', 'G#'],\n",
       " ['A', 'B', 'C', 'D', 'E', 'F', 'G'],\n",
       " ['Bb', 'C', 'D', 'Eb', 'F', 'G', 'A'],\n",
       " ['Bb', 'C', 'C#', 'Eb', 'F', 'F#', 'G#'],\n",
       " ['B', 'C#', 'Eb', 'E', 'F#', 'G#', 'Bb'],\n",
       " ['B', 'C#', 'D', 'E', 'F#', 'G', 'A']]"
      ]
     },
     "execution_count": 27,
     "metadata": {},
     "output_type": "execute_result"
    }
   ],
   "source": [
    "def scale_generator() -> list:\n",
    "    '''returns a 2d list containing notes in all major and minor scales'''\n",
    "    chromatic = ['C', 'C#', 'D', 'Eb', 'E', 'F', 'F#', 'G', 'G#', 'A', 'Bb', 'B']\n",
    "    chrom_2oct = chromatic * 2\n",
    "    major = [2,4,5,7,9,11]\n",
    "    minor = [2,3,5,7,8,10]\n",
    "    all_scales = []\n",
    "    for index, note in enumerate(chromatic[:len(chrom_2oct)//2]):\n",
    "        scale = [note]\n",
    "        for i in major:\n",
    "            scale.append(chrom_2oct[index + i])\n",
    "        all_scales.append(scale)\n",
    "        scale = [note]\n",
    "        for j in minor:\n",
    "            scale.append(chrom_2oct[index + j])\n",
    "        all_scales.append(scale)\n",
    "    return all_scales\n",
    "\n",
    "all_scales = scale_generator()\n",
    "all_scales"
   ]
  },
  {
   "cell_type": "markdown",
   "id": "43de5290-a5bc-41e1-bc1a-4cfb303cb214",
   "metadata": {},
   "source": [
    "Generate songs. Add higher scaling to tonic, 4th, 5th, and 6th of each scale."
   ]
  },
  {
   "cell_type": "code",
   "execution_count": 28,
   "id": "3553747b-0a0d-4750-9484-5103697c824a",
   "metadata": {},
   "outputs": [
    {
     "data": {
      "text/plain": [
       "[0.11066575566572748,\n",
       " 0.027727810505443356,\n",
       " 0.10933099474439534,\n",
       " 0.01932223445711899,\n",
       " 0.16674652410707486,\n",
       " 0.11540553010580573,\n",
       " 0.02197881583040771,\n",
       " 0.14468563871886073,\n",
       " 0.03334122185041342,\n",
       " 0.12224598126834131,\n",
       " 0.028915031966911562,\n",
       " 0.09963446077949947]"
      ]
     },
     "execution_count": 28,
     "metadata": {},
     "output_type": "execute_result"
    }
   ],
   "source": [
    "def song_maker(key: list) -> list:\n",
    "    chromatic = ['C', 'C#', 'D', 'Eb', 'E', 'F', 'F#', 'G', 'G#', 'A', 'Bb', 'B']\n",
    "    synth_PSD = []\n",
    "    for note in chromatic:\n",
    "        if note in key:\n",
    "            if note == key[0]:\n",
    "                synth_PSD.append(np.random.normal(loc=0.5, scale=0.15) * 1.05)\n",
    "            elif note in key[3:6]:\n",
    "                synth_PSD.append(np.random.normal(loc=0.5, scale=0.15) * 1.02)\n",
    "            else:\n",
    "                synth_PSD.append(np.random.normal(loc=0.5, scale=0.15))\n",
    "        if note not in key:\n",
    "            synth_PSD.append(np.random.normal(loc=0.5, scale=0.1)**(2.5))\n",
    "    synth_PSD = np.array(synth_PSD)\n",
    "    synth_PSD = synth_PSD/sum(synth_PSD)\n",
    "    return synth_PSD.tolist()\n",
    "\n",
    "test = song_maker(all_scales[0])\n",
    "test"
   ]
  },
  {
   "cell_type": "code",
   "execution_count": 29,
   "id": "2afab0b7-6ccf-4022-8a2f-8b543299bc1a",
   "metadata": {},
   "outputs": [
    {
     "data": {
      "image/png": "[encoded data removed]",
      "text/plain": [
       "<Figure size 864x504 with 1 Axes>"
      ]
     },
     "metadata": {
      "needs_background": "light"
     },
     "output_type": "display_data"
    }
   ],
   "source": [
    "chromatic = ['C', 'C#', 'D', 'Eb', 'E', 'F', 'F#', 'G', 'G#', 'A', 'Bb', 'B']\n",
    "fig, ax = plt.subplots(figsize=(12, 7))\n",
    "ax.bar(chromatic, test)\n",
    "plt.show()"
   ]
  },
  {
   "cell_type": "code",
   "execution_count": 30,
   "id": "492efdef-32ca-4416-9835-da9dfce147a1",
   "metadata": {},
   "outputs": [
    {
     "data": {
      "text/plain": [
       "(7200, 13)"
      ]
     },
     "execution_count": 30,
     "metadata": {},
     "output_type": "execute_result"
    }
   ],
   "source": [
    "chromatic = ['C', 'C#', 'D', 'Eb', 'E', 'F', 'F#', 'G', 'G#', 'A', 'Bb', 'B']\n",
    "chromatic.append('key')\n",
    "synth_df = pd.DataFrame(columns=chromatic)\n",
    "\n",
    "for index, scale in enumerate(all_scales):\n",
    "    for i in range(300):\n",
    "        new_song = song_maker(scale)\n",
    "        new_song.append(index)\n",
    "        synth_df.loc[len(synth_df.index)] = new_song\n",
    "\n",
    "synth_df.clip(lower=0, inplace=True)\n",
    "synth_df.shape"
   ]
  },
  {
   "cell_type": "code",
   "execution_count": 31,
   "id": "cbef314f-f3c7-436b-a032-21e144a1a71d",
   "metadata": {},
   "outputs": [],
   "source": [
    "X_train_synth = synth_df.drop(['key'], axis=1)\n",
    "y_train_synth = synth_df['key']\n",
    "\n",
    "X_test = df.drop(['key', 'power_sum'], axis=1)\n",
    "y_test = df['key']"
   ]
  },
  {
   "cell_type": "code",
   "execution_count": 32,
   "id": "a9cb34ae-8cd7-45a9-8fe0-64228e8cd0df",
   "metadata": {},
   "outputs": [
    {
     "data": {
      "text/plain": [
       "0.12086092715231789"
      ]
     },
     "execution_count": 32,
     "metadata": {},
     "output_type": "execute_result"
    }
   ],
   "source": [
    "boost = xgb.XGBClassifier()\n",
    "boost.fit(X_train_synth, y_train_synth)\n",
    "\n",
    "boost.score(X_test, y_test)"
   ]
  },
  {
   "cell_type": "code",
   "execution_count": 33,
   "id": "18900193-8146-4681-bbad-b5e01f0adf58",
   "metadata": {},
   "outputs": [
    {
     "data": {
      "text/plain": [
       "0.17549668874172186"
      ]
     },
     "execution_count": 33,
     "metadata": {},
     "output_type": "execute_result"
    }
   ],
   "source": [
    "svm = SVC(kernel='linear')\n",
    "svm.fit(X_train_synth, y_train_synth)\n",
    "\n",
    "svm.score(X_test, y_test)"
   ]
  },
  {
   "cell_type": "code",
   "execution_count": 34,
   "id": "24c47602-78ca-4a15-973f-585acc3cabeb",
   "metadata": {},
   "outputs": [
    {
     "data": {
      "text/plain": [
       "0.16390728476821192"
      ]
     },
     "execution_count": 34,
     "metadata": {},
     "output_type": "execute_result"
    }
   ],
   "source": [
    "gnb = GaussianNB()\n",
    "gnb.fit(X_train_synth, y_train_synth)\n",
    "\n",
    "gnb.score(X_test, y_test)"
   ]
  },
  {
   "cell_type": "code",
   "execution_count": 35,
   "id": "2f109e0c-30f9-46ec-8a3e-88d57f15a68d",
   "metadata": {},
   "outputs": [
    {
     "data": {
      "text/plain": [
       "0.09437086092715231"
      ]
     },
     "execution_count": 35,
     "metadata": {},
     "output_type": "execute_result"
    }
   ],
   "source": [
    "rfc = RFC(max_depth=6, max_features=8)\n",
    "rfc.fit(X_train_synth, y_train_synth)\n",
    "\n",
    "rfc.score(X_test, y_test)"
   ]
  },
  {
   "cell_type": "code",
   "execution_count": null,
   "id": "a244024e-29d5-4056-8813-7884faaccd42",
   "metadata": {},
   "outputs": [],
   "source": []
  }
 ],
 "metadata": {
  "kernelspec": {
   "display_name": "Python 3 (ipykernel)",
   "language": "python",
   "name": "python3"
  },
  "language_info": {
   "codemirror_mode": {
    "name": "ipython",
    "version": 3
   },
   "file_extension": ".py",
   "mimetype": "text/x-python",
   "name": "python",
   "nbconvert_exporter": "python",
   "pygments_lexer": "ipython3",
   "version": "3.9.12"
  }
 },
 "nbformat": 4,
 "nbformat_minor": 5
}
